{
 "cells": [
  {
   "cell_type": "code",
   "execution_count": null,
   "id": "236dc0eb-c99e-418d-9717-9771692d1339",
   "metadata": {},
   "outputs": [],
   "source": [
    "# Q1. What is the Probability density function?\n",
    "\n",
    "The Probability Density Function (PDF) defines the probability function representing the density of a continuous random \n",
    "variable lying between a specific range of values.\n",
    "In other words we can say that, the probability density function produces the likelihood of values of the continuous random variable."
   ]
  },
  {
   "cell_type": "code",
   "execution_count": null,
   "id": "89cb7f55-aecf-455a-b5da-cd98b580515a",
   "metadata": {},
   "outputs": [],
   "source": [
    "# Q2. What are the types of Probability distribution?\n",
    "\n",
    "There are two types of probability distributions: discrete probability distributions and continuous probability distributions. \n",
    "Within each category, there are many types of probability distributions.\n",
    "Examples of probability distributions include:\n",
    "1)Binomial distribution\n",
    "2)Poisson distribution\n",
    "3)Uniform distribution\n",
    "4)Standard normal distribution\n",
    "5)F distribution\n",
    "6)Student’s t distribution\n",
    "\n",
    "1- DISCRETE PROBABILITY DISTRIBUTION:\n",
    "Discrete probability distribution is a type of probability distribution that shows all possible values of a discrete random variable along \n",
    "with the associated probabilities.\n",
    "In other words, a discrete probability distribution gives the likelihood of occurrence of each possible value of a discrete random variable.\n",
    "\n",
    "2- CONTINUOUS PROBABILITY DISTRIBUTION:\n",
    "The cumulative probability distribution is also known as a continuous probability distribution. \n",
    "In this distribution, the set of possible outcomes can take on values in a continuous range.\n",
    "\n"
   ]
  },
  {
   "cell_type": "code",
   "execution_count": 1,
   "id": "4e1232ec-1a62-4c0b-9e99-c84c9e251653",
   "metadata": {},
   "outputs": [
    {
     "name": "stdout",
     "output_type": "stream",
     "text": [
      "PDF at x = 0 is 0.3989422804014327\n"
     ]
    }
   ],
   "source": [
    "#Q3. Write a Python function to calculate the probability density function of a normal distribution with\n",
    "#given mean and standard deviation at a given point.\n",
    "\n",
    "import math\n",
    "def normal_pdf(x, mean, std_dev):\n",
    "\n",
    "    coefficient = 1 / (math.sqrt(2 * math.pi) * std_dev)\n",
    "    exponent = -((x - mean) ** 2) / (2 * std_dev ** 2)\n",
    "    return coefficient * math.exp(exponent)\n",
    "\n",
    "mean = 0\n",
    "std_dev = 1\n",
    "x = 0\n",
    "pdf_at_x = normal_pdf(x, mean, std_dev)\n",
    "print(\"PDF at x =\", x, \"is\", pdf_at_x)"
   ]
  },
  {
   "cell_type": "code",
   "execution_count": null,
   "id": "3221e03b-ffa3-43d1-a338-1dee16f5c57e",
   "metadata": {},
   "outputs": [],
   "source": [
    "#Q4. What are the properties of Binomial distribution? Give two examples of events where binomial\n",
    "#distribution can be applied.\n",
    "\n",
    "The binomial distribution is a discrete probability distribution that models the number of successes\n",
    "in a fixed number of independent Bernoulli trials (experiments with two possible outcomes: \n",
    "success or failure), where each trial has the same probability of success, denoted by  p.\n",
    "\n",
    "The properties of the binomial distribution include:\n",
    "\n",
    "1)Fixed number of trials (n): The number of trials in a binomial experiment is fixed in advance.\n",
    "2)Independent trials: Each trial is independent of the others. The outcome of one trial does not affect the outcome of another.\n",
    "3)Two possible outcomes: Each trial results in one of two possible outcomes: success or failure.\n",
    "4)Constant probability of success (p): The probability of success p is constant for each trial.\n",
    "5)Discrete distribution: The binomial random variable represents a count of successes, so it takes on discrete values.\n",
    "\n",
    "Examples of events where the binomial distribution can be applied include:\n",
    "\n",
    "Coin Flipping: Suppose you flip a fair coin (with probability p=0.5) 10 times and count the number of heads.\n",
    "Each flip is a Bernoulli trial, and the total number of heads in 10 flips follows a binomial distribution.\n",
    "\n",
    "Medical Trials: In a clinical trial, patients are randomly assigned to one of two treatments (success or failure).\n",
    "The number of patients who respond positively to the treatment out of a fixed number of patients follows a binomial distribution,\n",
    "assuming the patients' responses are independent and the treatment success rate is constant."
   ]
  },
  {
   "cell_type": "code",
   "execution_count": 2,
   "id": "fe1440ce-cde3-4a2d-941e-8360c168d62b",
   "metadata": {},
   "outputs": [
    {
     "data": {
      "image/png": "[encoded data removed]",
      "text/plain": [
       "<Figure size 640x480 with 1 Axes>"
      ]
     },
     "metadata": {},
     "output_type": "display_data"
    }
   ],
   "source": [
    "#Q5. Generate a random sample of size 1000 from a binomial distribution with probability of success 0.4\n",
    "#and plot a histogram of the results using matplotlib.\n",
    "\n",
    "import numpy as np\n",
    "import matplotlib.pyplot as plt\n",
    "\n",
    "n = 1000  \n",
    "p = 0.4   \n",
    "\n",
    "# Generate random sample from binomial distribution\n",
    "random_sample = np.random.binomial(n=1, p=p, size=1000)\n",
    "\n",
    "# Plot histogram\n",
    "plt.hist(random_sample, bins=2, color='skyblue', edgecolor='black', alpha=0.7)\n",
    "\n",
    "# Customize plot\n",
    "plt.title('Binomial Distribution')\n",
    "plt.xlabel('Outcome')\n",
    "plt.ylabel('Frequency')\n",
    "\n",
    "# Customize x-axis ticks to show 'Success' and 'Failure' instead of 0 and 1\n",
    "plt.xticks([0, 1], ['Failure', 'Success'])\n",
    "\n",
    "# Show plot\n",
    "plt.show()\n"
   ]
  },
  {
   "cell_type": "code",
   "execution_count": 3,
   "id": "86298b7a-02c1-4256-a533-6bdc31cc4b29",
   "metadata": {},
   "outputs": [
    {
     "name": "stdout",
     "output_type": "stream",
     "text": [
      "CDF at x = 3 is 0.7575761331330659\n"
     ]
    }
   ],
   "source": [
    "#Q6. Write a Python function to calculate the cumulative distribution function of a Poisson distribution\n",
    "#with given mean at a given point.\n",
    "\n",
    "import math\n",
    "\n",
    "def poisson_cdf(x, mean):\n",
    " \n",
    "    cdf = 0.0\n",
    "    for i in range(x + 1):\n",
    "        cdf += math.exp(-mean) * (mean ** i) / math.factorial(i)\n",
    "    return cdf\n",
    "\n",
    "# Example usage:\n",
    "mean = 2.5\n",
    "x = 3\n",
    "cdf_at_x = poisson_cdf(x, mean)\n",
    "print(\"CDF at x =\", x, \"is\", cdf_at_x)\n"
   ]
  },
  {
   "cell_type": "code",
   "execution_count": null,
   "id": "8f55eddb-2642-4e17-b0d1-c0ebe3438907",
   "metadata": {},
   "outputs": [],
   "source": [
    "Q7. How Binomial distribution different from Poisson distribution?\n",
    "\n",
    "\n",
    "Binomial and Poisson distributions are both fundamental in probability theory and statistics, but they are used to model different types of phenomena and have distinct characteristics.\n",
    "\n",
    "Here are the key differences between the two distributions:\n",
    "\n",
    "Nature of the Process:\n",
    "Binomial Distribution: It models the number of successes in a fixed number of independent Bernoulli trials, where each trial has two possible outcomes (success or failure), and the probability of success remains constant.\n",
    "Poisson Distribution: It models the number of events occurring in a fixed interval of time or space when the events happen with a constant rate and are independent of the time since the last event.\n",
    "\n",
    "Number of Trials:\n",
    "Binomial Distribution: It involves a fixed number of trials, denoted by n.\n",
    "Poisson Distribution: It does not have a fixed number of trials; instead, it represents events occurring over a continuous interval of time or space.\n",
    "\n",
    "Parameters:\n",
    "Binomial Distribution: It is defined by two parameters: the number of trials n and the probability of success on each trial p.\n",
    "Poisson Distribution: It is defined by a single parameter λ, which represents the average rate of occurrence of events in the given interval.\n",
    "\n",
    "Outcome:\n",
    "Binomial Distribution: The outcome is a count of the number of successes in the fixed number of trials.\n",
    "Poisson Distribution: The outcome is a count of the number of events occurring in the fixed interval.\n",
    "\n",
    "Limiting Behavior:\n",
    "Binomial Distribution: It tends towards a Poisson distribution as the number of trials (n) goes to infinity and the probability of success (p) goes to zero in such a way that np remains constant.\n",
    "Poisson Distribution: It can be seen as a limiting case of the binomial distribution when the number of trials becomes very large and the probability of success becomes very small, such that the product np remains constant.\n",
    "\n",
    "Shape:\n",
    "Binomial Distribution: It is symmetric if p=0.5 and can be skewed if p ≠ 0.5.\n",
    "Poisson Distribution: It is often right-skewed."
   ]
  },
  {
   "cell_type": "code",
   "execution_count": 4,
   "id": "8de16ad6-06e9-406e-ae3c-89daa0e15fe8",
   "metadata": {},
   "outputs": [
    {
     "name": "stdout",
     "output_type": "stream",
     "text": [
      "Sample Mean: 5.011\n",
      "Sample Variance: 4.866879\n"
     ]
    }
   ],
   "source": [
    "#Q8. Generate a random sample of size 1000 from a Poisson distribution with mean 5 and calculate the\n",
    "#sample mean and variance.\n",
    "\n",
    "import numpy as np\n",
    "\n",
    "mean = 5\n",
    "sample_size = 1000\n",
    "\n",
    "random_sample = np.random.poisson(mean, sample_size)\n",
    "\n",
    "sample_mean = np.mean(random_sample)\n",
    "sample_variance = np.var(random_sample)\n",
    "\n",
    "print(\"Sample Mean:\", sample_mean)\n",
    "print(\"Sample Variance:\", sample_variance)\n"
   ]
  },
  {
   "cell_type": "code",
   "execution_count": null,
   "id": "f54183f6-8534-4a49-8f8b-1ecb1e3ee51a",
   "metadata": {},
   "outputs": [],
   "source": [
    " #Q9. How mean and variance are related in Binomial distribution and Poisson distribution?\n",
    "\n",
    "In both the binomial and Poisson distributions, the mean and variance are closely related, but the specific relationship differs\n",
    "slightly between the two distributions.\n",
    "\n",
    "Binomial Distribution:\n",
    "\n",
    "Mean (μ): For a binomial distribution with parameters n (number of trials) and p (probability of success), the mean is given by μ=np.\n",
    "Variance (σ^2): The variance of a binomial distribution is given by σ^2 = np(1−p).\n",
    "In summary, the mean and variance of a binomial distribution are directly related through the parameter np. When the probability of success \n",
    "p is fixed, increasing the number of trials n increases both the mean and the variance proportionally.\n",
    "\n",
    "Poisson Distribution:\n",
    "\n",
    "Mean (λ): For a Poisson distribution, the mean is represented by λ, which also corresponds to the rate parameter of the distribution.\n",
    "Variance (σ^2): The variance of a Poisson distribution is equal to its mean, σ^2 = λ.\n",
    "In summary, the mean and variance of a Poisson distribution are equal. \n",
    "This property is unique to the Poisson distribution and not shared by other distributions in general.\n",
    "\n",
    "In both cases, while the formulas for mean and variance differ slightly between the two distributions,\n",
    "they both exhibit a proportional relationship between mean and variance.\n",
    "However, the Poisson distribution has the additional property of having its mean and variance being equal,\n",
    "which is not the case for the binomial distribution.\n",
    "\n",
    "\n"
   ]
  },
  {
   "cell_type": "code",
   "execution_count": null,
   "id": "6fad56f0-2a86-43d3-a275-3afbf701660c",
   "metadata": {},
   "outputs": [],
   "source": [
    "# Q10. In normal distribution with respect to mean position, where does the least frequent data appear?\n",
    "\n",
    "In a normal distribution, the least frequent data appears at the tails of the distribution. \n",
    "The distribution is symmetrical about the average, and as you move away from the average, the points occur with less frequency.\n",
    "For all normal distributions, 68.2% of the observations will appear within plus or minus one standard deviation of the mean;\n",
    "95.4% of the observations will fall within +/- two standard deviations; \n",
    "and 99.7% within +/- three standard deviations.\n"
   ]
  }
 ],
 "metadata": {
  "kernelspec": {
   "display_name": "Python 3 (ipykernel)",
   "language": "python",
   "name": "python3"
  },
  "language_info": {
   "codemirror_mode": {
    "name": "ipython",
    "version": 3
   },
   "file_extension": ".py",
   "mimetype": "text/x-python",
   "name": "python",
   "nbconvert_exporter": "python",
   "pygments_lexer": "ipython3",
   "version": "3.10.8"
  }
 },
 "nbformat": 4,
 "nbformat_minor": 5
}
